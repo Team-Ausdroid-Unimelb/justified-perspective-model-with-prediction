{
 "cells": [
  {
   "cell_type": "code",
   "execution_count": null,
   "metadata": {},
   "outputs": [],
   "source": [
    "import pymongo\n",
    "import os\n",
    "import json\n",
    "import pandas as pd\n",
    "import yaml\n",
    "\n",
    "\n",
    "from fig_generator import FigGenerator\n",
    "import matplotlib.pyplot as plt\n",
    "\n",
    "\n",
    "\n",
    "def list_files(directory):\n",
    "    output = []\n",
    "    for root, dirs, files in os.walk(directory):\n",
    "        for file in files:\n",
    "            output.append(os.path.join(root, file))\n",
    "    return output\n",
    "\n",
    "\n",
    "\n",
    "config_path = \"configs\"\n",
    "file_list = list_files(config_path)\n",
    "fg = FigGenerator()\n",
    "# domain_list = ['coin','spcoin','sn','grapevine','corridor','bbl']\n",
    "# for domain_name in domain_list:\n",
    "for file_name in file_list:\n",
    "    # if \"a1\" in file_name and \".yaml\" in file_name:\n",
    "    if \".yaml\" in file_name:\n",
    "        \n",
    "        with open(file_name, 'r') as file:\n",
    "            content = file.read()\n",
    "        # new_file_name = file_name.replace('-a1',f'-a{agent_mul}')\n",
    "        new_content = content.replace('value: 1',f'value: {agent_mul}')\n",
    "        new_content = content\n",
    "        new_file_folder = os.path.split(new_file_name)[0]\n",
    "        # print(new_file_name)\n",
    "        # print(new_content)\n",
    "        if not os.path.exists(new_file_folder):\n",
    "            os.makedirs(new_file_folder)\n",
    "        with open(new_file_name,'w') as f:\n",
    "            f.write(new_content)\n"
   ]
  }
 ],
 "metadata": {
  "language_info": {
   "name": "python"
  }
 },
 "nbformat": 4,
 "nbformat_minor": 2
}
