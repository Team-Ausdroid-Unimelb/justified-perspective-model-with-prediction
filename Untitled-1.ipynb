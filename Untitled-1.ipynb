{
 "cells": [
  {
   "cell_type": "code",
   "execution_count": null,
   "metadata": {},
   "outputs": [],
   "source": [
    "import os"
   ]
  },
  {
   "cell_type": "markdown",
   "metadata": {},
   "source": [
    "This part is for grapevine\n",
    " "
   ]
  },
  {
   "cell_type": "code",
   "execution_count": null,
   "metadata": {},
   "outputs": [],
   "source": [
    "dir_name = os.path.join('ijcai','group_grapevine')\n",
    "goal_list = [\n",
    "    \"$\\\\cb_{\\\\group} sct_a = t$\",\n",
    "    \"$\\\\eb_{\\\\group} sct_a = t \\\\land \\\\cb_{\\\\group} sct_a = t \\\\rightarrow \\\\unknown$\",\n",
    "    \"$\\\\eb_{\\\\group} \\\\eb_{\\\\group} sct_a = t \\\\land \\\\cb_{\\\\group} sct_a = t \\\\rightarrow \\\\unknown$\",\n",
    "    \"$B_b \\\\cb_{\\\\group} sct_a = f \\\\land \\\\cb_{\\\\{a,c,d\\\\}} sct_a = t$\",\n",
    "    \"$\\\\cb_{\\\\{b,c\\\\}} \\\\cb_{\\\\group} sct_a = f \\\\land \\\\cb_{\\\\{a,d\\\\}} sct_a = t$\",\n",
    "    \"$\\\\db_{\\\\group} \\\\eb_{\\\\group} sct_a = t \\\\land \\\\cb_{\\\\group} sct_a = t \\\\rightarrow \\\\unknown$\",\n",
    "    \"$\\\\db_{\\\\group} \\\\eb_{\\\\group} sct_a = t \\\\land B_a \\\\eb_{\\\\group} sct_a = t \\\\rightarrow \\\\unknown$\",\n",
    "    ]\n",
    "\n"
   ]
  },
  {
   "cell_type": "markdown",
   "metadata": {},
   "source": [
    "The Following part is for number:"
   ]
  },
  {
   "cell_type": "code",
   "execution_count": null,
   "metadata": {},
   "outputs": [],
   "source": [
    "dir_name = os.path.join(\"ijcai\",\"group_num\")\n",
    "goal_list = [\n",
    "    \"$\\\\eb_{\\\\{a,b\\\\}} n<2$\",\n",
    "    \"$\\\\db_{\\\\{a,b\\\\}} n<2$\",\n",
    "    \"$\\\\cb_{\\\\{a,b\\\\}} n<2$\",\n",
    "    \"$\\\\eb_{\\\\{a,b\\\\}} n<2 \\\\land \\\\neg \\\\cb_{\\\\{a,b\\\\}} n<2 $\",\n",
    "    \"$\\\\eb_{\\\\{a,b\\\\}} \\\\eb_{\\\\{a,b\\\\}} n<2 \\\\land \\\\neg \\\\cb_{\\\\{a,b\\\\}} n<2 $\",\n",
    "    \"$\\\\neg \\\\eb_{\\\\{a,b\\\\}} n=1 \\\\land \\\\neg \\\\eb_{\\\\{a,b\\\\}} n=2 \\\\land \\\\cb_{\\\\{a,b\\\\}} n<2$\",\n",
    "    \"$B_a \\\\cb_{\\\\{a,b\\\\}} n=2 \\\\land B_b \\\\cb_{\\\\{a,b\\\\}} n=1$\"]\n",
    "\n",
    "\n",
    "\n",
    "\n"
   ]
  },
  {
   "cell_type": "markdown",
   "metadata": {},
   "source": [
    "The following is for bbl"
   ]
  },
  {
   "cell_type": "code",
   "execution_count": null,
   "metadata": {},
   "outputs": [],
   "source": [
    "dir_name = os.path.join(\"ijcai\",\"group_bbl\")\n",
    "goal_list = [\n",
    "    \"$\\\\cb_{\\\\group} o_2 = 2$\",\n",
    "    \"$\\\\eb_{\\\\group} o_2 = 2 \\\\land \\\\cb_{\\\\group} o_2 = 2  \\\\rightarrow \\\\unknown$\",\n",
    "    \"$\\\\cb_{\\\\group} o_1 = 1$\",\n",
    "    \"$\\\\cb_{\\\\group} (o_1 = 1 \\\\land o_2 = 2)$ \",\n",
    "    \"$\\\\eb_{\\\\group} (o_1 = 1 \\\\land o_2 = 2 \\\\land o_3 = 3)$\",\n",
    "    \"$\\\\eb_{\\\\group} o_1 < o_2$\",\n",
    "    \"$\\\\db_{\\\\group} o_1 < o_2$\"\n",
    "\n",
    "]"
   ]
  },
  {
   "cell_type": "code",
   "execution_count": null,
   "metadata": {},
   "outputs": [],
   "source": [
    "\n",
    "import os\n",
    "import pandas\n",
    "import json\n",
    "from util import ActionList2DictKey\n",
    "\n",
    "\n",
    "plan_str_prefix_list= [ goal_str + \" \\\\\\\\ % \" for goal_str in goal_list]\n",
    "\n",
    "\n",
    "result_json = list()\n",
    "\n",
    "\n",
    "# dir_name = os.path.join(\"amass_result\",\"grapevine\")\n",
    "path_list= os.listdir(dir_name)\n",
    "index = 0\n",
    "for file_name in sorted(path_list):\n",
    "    if '.json' in file_name:\n",
    "        with open(os.path.join(dir_name,file_name),'r') as f:\n",
    "            json_item = json.load(f)\n",
    "            # print(json_item)\n",
    "            \n",
    "            for key,value in json_item.items():\n",
    "                if type(value) == float:\n",
    "                    if key == 'common_average':\n",
    "                        json_item[key] = str(round(value,1))\n",
    "                    if key == 'epistemic_call_time_avg':\n",
    "                        json_item[key] = str(round(value*1000,3))\n",
    "                    else:\n",
    "                        json_item[key] = str(round(value,3))\n",
    "                    \n",
    "            \n",
    "            if \"plan\" in json_item.keys():\n",
    "                plan = json_item['plan']\n",
    "                json_item.update({\"plan_length\":len(plan)})\n",
    "                print(len(plan_str_prefix_list))\n",
    "                print(index)\n",
    "                plan_str = plan_str_prefix_list[index] + ActionList2DictKey(plan)\n",
    "                json_item.update({\"plan\":plan_str})\n",
    "                index+=1\n",
    "            # search_str = json_item[\"search\"] \n",
    "\n",
    "            result_json.append(json_item)\n",
    "        \n",
    "print(result_json)\n",
    "\n",
    "\n",
    "\n",
    "\n",
    "\n",
    "df_json = pandas.DataFrame.from_dict(result_json)\n",
    "# print(df_json)\n",
    "# new_df=df_json.drop(columns=['solvable', 'domain_name','search','pruned','pruned_by_unknown','pruned_by_visited','problem','goal_checked'])\n",
    "cols = df_json.columns.values\n",
    "print(cols)\n",
    "cols = ['expanded' ,'generated','common_max','common_average' ,'epistemic_calls', 'epistemic_call_time_avg', 'search_time', 'plan_length','plan']\n",
    "# cols = list(new_df.columns.values)[1:]+['plan']\n",
    "new_df = df_json[cols]\n",
    "pandas.set_option('display.max_colwidth', 1000)\n",
    "print(new_df)\n",
    "\n",
    "latex_df = new_df.to_latex(escape=False)\n",
    "# print(latex_df)\n",
    "\n",
    "with open(os.path.join(dir_name,\"table.latex\"),'w') as f:\n",
    "    f.write(latex_df)\n",
    "    \n"
   ]
  },
  {
   "cell_type": "code",
   "execution_count": 1,
   "metadata": {},
   "outputs": [
    {
     "name": "stdout",
     "output_type": "stream",
     "text": [
      "[3, 6, 12]\n",
      "[3, 6, 12]\n"
     ]
    }
   ],
   "source": [
    "from random_query_generoter import RandomQueryGenerator\n",
    "\n",
    "rqg = RandomQueryGenerator(['a','b','c'],3)\n",
    "print(rqg.agent_num_list)"
   ]
  },
  {
   "cell_type": "code",
   "execution_count": 7,
   "metadata": {},
   "outputs": [
    {
     "name": "stdout",
     "output_type": "stream",
     "text": [
      "[[8, 7, 21], [18, 4, 16], [16, 12, 20]]\n"
     ]
    },
    {
     "ename": "ValueError",
     "evalue": "this number -1 should be larger than 0, decoding fail.",
     "output_type": "error",
     "traceback": [
      "\u001b[0;31m---------------------------------------------------------------------------\u001b[0m",
      "\u001b[0;31mValueError\u001b[0m                                Traceback (most recent call last)",
      "Cell \u001b[0;32mIn[7], line 6\u001b[0m\n\u001b[1;32m      4\u001b[0m \u001b[38;5;28;01mfor\u001b[39;00m goal_list \u001b[38;5;129;01min\u001b[39;00m random_goal_list:\n\u001b[1;32m      5\u001b[0m     \u001b[38;5;28;01mfor\u001b[39;00m goal_num \u001b[38;5;129;01min\u001b[39;00m goal_list:\n\u001b[0;32m----> 6\u001b[0m         \u001b[38;5;28mprint\u001b[39m(\u001b[43mrqg\u001b[49m\u001b[38;5;241;43m.\u001b[39;49m\u001b[43mdecode_agt_num\u001b[49m\u001b[43m(\u001b[49m\u001b[43mgoal_num\u001b[49m\u001b[43m)\u001b[49m)\n\u001b[1;32m      7\u001b[0m     \u001b[38;5;28mprint\u001b[39m(\u001b[38;5;124m\"\u001b[39m\u001b[38;5;124m \u001b[39m\u001b[38;5;124m\"\u001b[39m)\n",
      "File \u001b[0;32m~/codes/research/bpwp/random_query_generoter.py:33\u001b[0m, in \u001b[0;36mRandomQueryGenerator.decode_agt_num\u001b[0;34m(self, num)\u001b[0m\n\u001b[1;32m     31\u001b[0m num \u001b[38;5;241m=\u001b[39m num \u001b[38;5;241m-\u001b[39m \u001b[38;5;28msum\u001b[39m(\u001b[38;5;28mself\u001b[39m\u001b[38;5;241m.\u001b[39magent_num_list[:query_agent_len])\n\u001b[1;32m     32\u001b[0m \u001b[38;5;28;01mif\u001b[39;00m num \u001b[38;5;241m<\u001b[39m\u001b[38;5;241m=\u001b[39m \u001b[38;5;241m0\u001b[39m:\n\u001b[0;32m---> 33\u001b[0m     \u001b[38;5;28;01mraise\u001b[39;00m \u001b[38;5;167;01mValueError\u001b[39;00m(\u001b[38;5;124mf\u001b[39m\u001b[38;5;124m\"\u001b[39m\u001b[38;5;124mthis number \u001b[39m\u001b[38;5;132;01m{\u001b[39;00mnum\u001b[38;5;132;01m}\u001b[39;00m\u001b[38;5;124m should be larger than 0, decoding fail.\u001b[39m\u001b[38;5;124m\"\u001b[39m)\n\u001b[1;32m     34\u001b[0m agent_size \u001b[38;5;241m=\u001b[39m \u001b[38;5;28mlen\u001b[39m(\u001b[38;5;28mself\u001b[39m\u001b[38;5;241m.\u001b[39magent_list)\n\u001b[1;32m     35\u001b[0m query_agent_index_list\u001b[38;5;241m=\u001b[39m []\n",
      "\u001b[0;31mValueError\u001b[0m: this number -1 should be larger than 0, decoding fail."
     ]
    }
   ],
   "source": [
    "\n",
    "random_goal_list = rqg.select_n_random_query_k_times(3,3)\n",
    "print(random_goal_list)\n",
    "\n",
    "for goal_list in random_goal_list:\n",
    "    for goal_num in goal_list:\n",
    "        print(rqg.decode_agt_num(goal_num))\n",
    "    print(\" \")"
   ]
  }
 ],
 "metadata": {
  "kernelspec": {
   "display_name": "Python 3",
   "language": "python",
   "name": "python3"
  },
  "language_info": {
   "codemirror_mode": {
    "name": "ipython",
    "version": 3
   },
   "file_extension": ".py",
   "mimetype": "text/x-python",
   "name": "python",
   "nbconvert_exporter": "python",
   "pygments_lexer": "ipython3",
   "version": "3.8.10"
  },
  "orig_nbformat": 4,
  "vscode": {
   "interpreter": {
    "hash": "be20a142c3a3c1fec0f2a3fd728a43c6f1e3462a51ebeb0c006ecb4e4d65288e"
   }
  }
 },
 "nbformat": 4,
 "nbformat_minor": 2
}
