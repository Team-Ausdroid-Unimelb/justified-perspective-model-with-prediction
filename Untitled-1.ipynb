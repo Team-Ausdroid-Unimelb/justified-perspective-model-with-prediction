{
 "cells": [
  {
   "cell_type": "code",
   "execution_count": null,
   "metadata": {},
   "outputs": [],
   "source": [
    "import os"
   ]
  },
  {
   "cell_type": "markdown",
   "metadata": {},
   "source": [
    "This part is for grapevine\n",
    " "
   ]
  },
  {
   "cell_type": "code",
   "execution_count": null,
   "metadata": {},
   "outputs": [],
   "source": [
    "dir_name = os.path.join('ijcai','group_grapevine')\n",
    "goal_list = [\n",
    "    \"$\\\\cb_{\\\\group} sct_a = t$\",\n",
    "    \"$\\\\eb_{\\\\group} sct_a = t \\\\land \\\\cb_{\\\\group} sct_a = t \\\\rightarrow \\\\unknown$\",\n",
    "    \"$\\\\eb_{\\\\group} \\\\eb_{\\\\group} sct_a = t \\\\land \\\\cb_{\\\\group} sct_a = t \\\\rightarrow \\\\unknown$\",\n",
    "    \"$B_b \\\\cb_{\\\\group} sct_a = f \\\\land \\\\cb_{\\\\{a,c,d\\\\}} sct_a = t$\",\n",
    "    \"$\\\\cb_{\\\\{b,c\\\\}} \\\\cb_{\\\\group} sct_a = f \\\\land \\\\cb_{\\\\{a,d\\\\}} sct_a = t$\",\n",
    "    \"$\\\\db_{\\\\group} \\\\eb_{\\\\group} sct_a = t \\\\land \\\\cb_{\\\\group} sct_a = t \\\\rightarrow \\\\unknown$\",\n",
    "    \"$\\\\db_{\\\\group} \\\\eb_{\\\\group} sct_a = t \\\\land B_a \\\\eb_{\\\\group} sct_a = t \\\\rightarrow \\\\unknown$\",\n",
    "    ]\n",
    "\n"
   ]
  },
  {
   "cell_type": "markdown",
   "metadata": {},
   "source": [
    "The Following part is for number:"
   ]
  },
  {
   "cell_type": "code",
   "execution_count": null,
   "metadata": {},
   "outputs": [],
   "source": [
    "dir_name = os.path.join(\"ijcai\",\"group_num\")\n",
    "goal_list = [\n",
    "    \"$\\\\eb_{\\\\{a,b\\\\}} n<2$\",\n",
    "    \"$\\\\db_{\\\\{a,b\\\\}} n<2$\",\n",
    "    \"$\\\\cb_{\\\\{a,b\\\\}} n<2$\",\n",
    "    \"$\\\\eb_{\\\\{a,b\\\\}} n<2 \\\\land \\\\neg \\\\cb_{\\\\{a,b\\\\}} n<2 $\",\n",
    "    \"$\\\\eb_{\\\\{a,b\\\\}} \\\\eb_{\\\\{a,b\\\\}} n<2 \\\\land \\\\neg \\\\cb_{\\\\{a,b\\\\}} n<2 $\",\n",
    "    \"$\\\\neg \\\\eb_{\\\\{a,b\\\\}} n=1 \\\\land \\\\neg \\\\eb_{\\\\{a,b\\\\}} n=2 \\\\land \\\\cb_{\\\\{a,b\\\\}} n<2$\",\n",
    "    \"$B_a \\\\cb_{\\\\{a,b\\\\}} n=2 \\\\land B_b \\\\cb_{\\\\{a,b\\\\}} n=1$\"]\n",
    "\n",
    "\n",
    "\n",
    "\n"
   ]
  },
  {
   "cell_type": "markdown",
   "metadata": {},
   "source": [
    "The following is for bbl"
   ]
  },
  {
   "cell_type": "code",
   "execution_count": null,
   "metadata": {},
   "outputs": [],
   "source": [
    "dir_name = os.path.join(\"ijcai\",\"group_bbl\")\n",
    "goal_list = [\n",
    "    \"$\\\\cb_{\\\\group} o_2 = 2$\",\n",
    "    \"$\\\\eb_{\\\\group} o_2 = 2 \\\\land \\\\cb_{\\\\group} o_2 = 2  \\\\rightarrow \\\\unknown$\",\n",
    "    \"$\\\\cb_{\\\\group} o_1 = 1$\",\n",
    "    \"$\\\\cb_{\\\\group} (o_1 = 1 \\\\land o_2 = 2)$ \",\n",
    "    \"$\\\\eb_{\\\\group} (o_1 = 1 \\\\land o_2 = 2 \\\\land o_3 = 3)$\",\n",
    "    \"$\\\\eb_{\\\\group} o_1 < o_2$\",\n",
    "    \"$\\\\db_{\\\\group} o_1 < o_2$\"\n",
    "\n",
    "]"
   ]
  },
  {
   "cell_type": "code",
   "execution_count": null,
   "metadata": {},
   "outputs": [],
   "source": [
    "\n",
    "import os\n",
    "import pandas\n",
    "import json\n",
    "from util import ActionList2DictKey\n",
    "\n",
    "\n",
    "plan_str_prefix_list= [ goal_str + \" \\\\\\\\ % \" for goal_str in goal_list]\n",
    "\n",
    "\n",
    "result_json = list()\n",
    "\n",
    "\n",
    "# dir_name = os.path.join(\"amass_result\",\"grapevine\")\n",
    "path_list= os.listdir(dir_name)\n",
    "index = 0\n",
    "for file_name in sorted(path_list):\n",
    "    if '.json' in file_name:\n",
    "        with open(os.path.join(dir_name,file_name),'r') as f:\n",
    "            json_item = json.load(f)\n",
    "            # print(json_item)\n",
    "            \n",
    "            for key,value in json_item.items():\n",
    "                if type(value) == float:\n",
    "                    if key == 'common_average':\n",
    "                        json_item[key] = str(round(value,1))\n",
    "                    if key == 'epistemic_call_time_avg':\n",
    "                        json_item[key] = str(round(value*1000,3))\n",
    "                    else:\n",
    "                        json_item[key] = str(round(value,3))\n",
    "                    \n",
    "            \n",
    "            if \"plan\" in json_item.keys():\n",
    "                plan = json_item['plan']\n",
    "                json_item.update({\"plan_length\":len(plan)})\n",
    "                print(len(plan_str_prefix_list))\n",
    "                print(index)\n",
    "                plan_str = plan_str_prefix_list[index] + ActionList2DictKey(plan)\n",
    "                json_item.update({\"plan\":plan_str})\n",
    "                index+=1\n",
    "            # search_str = json_item[\"search\"] \n",
    "\n",
    "            result_json.append(json_item)\n",
    "        \n",
    "print(result_json)\n",
    "\n",
    "\n",
    "\n",
    "\n",
    "\n",
    "df_json = pandas.DataFrame.from_dict(result_json)\n",
    "# print(df_json)\n",
    "# new_df=df_json.drop(columns=['solvable', 'domain_name','search','pruned','pruned_by_unknown','pruned_by_visited','problem','goal_checked'])\n",
    "cols = df_json.columns.values\n",
    "print(cols)\n",
    "cols = ['expanded' ,'generated','common_max','common_average' ,'epistemic_calls', 'epistemic_call_time_avg', 'search_time', 'plan_length','plan']\n",
    "# cols = list(new_df.columns.values)[1:]+['plan']\n",
    "new_df = df_json[cols]\n",
    "pandas.set_option('display.max_colwidth', 1000)\n",
    "print(new_df)\n",
    "\n",
    "latex_df = new_df.to_latex(escape=False)\n",
    "# print(latex_df)\n",
    "\n",
    "with open(os.path.join(dir_name,\"table.latex\"),'w') as f:\n",
    "    f.write(latex_df)\n",
    "    \n"
   ]
  },
  {
   "cell_type": "code",
   "execution_count": 1,
   "metadata": {},
   "outputs": [
    {
     "name": "stdout",
     "output_type": "stream",
     "text": [
      "[3, 6, 12]\n",
      "[3, 6, 12]\n"
     ]
    }
   ],
   "source": [
    "from random_query_generoter import RandomQueryGenerator\n",
    "\n",
    "rqg = RandomQueryGenerator(['a','b','c'],3)\n",
    "print(rqg.agent_num_list)"
   ]
  },
  {
   "cell_type": "markdown",
   "metadata": {},
   "source": [
    "Reading and input into MongoDB"
   ]
  },
  {
   "cell_type": "code",
   "execution_count": 4,
   "metadata": {},
   "outputs": [],
   "source": [
    "import pymongo\n",
    "import os\n",
    "import json\n",
    "\n",
    "my_client = pymongo.MongoClient(\"mongodb://localhost:27017\",username=\"admin\",password=\"90054\")\n",
    "my_db = my_client[\"result\"]\n",
    "\n",
    "my_collection = my_db[\"20240322\"]\n",
    "\n",
    "\n",
    "result_path = os.path.join(\"results\",\"greedy\")\n",
    "for path in os.listdir(result_path):\n",
    "    if \".json\" in path:\n",
    "        file_path = os.path.join(result_path,path)\n",
    "        with open(file_path,\"r\") as f:\n",
    "            result = json.load(f)\n",
    "        my_collection.insert_one(result)\n"
   ]
  }
 ],
 "metadata": {
  "kernelspec": {
   "display_name": "Python 3",
   "language": "python",
   "name": "python3"
  },
  "language_info": {
   "codemirror_mode": {
    "name": "ipython",
    "version": 3
   },
   "file_extension": ".py",
   "mimetype": "text/x-python",
   "name": "python",
   "nbconvert_exporter": "python",
   "pygments_lexer": "ipython3",
   "version": "3.8.10"
  },
  "orig_nbformat": 4,
  "vscode": {
   "interpreter": {
    "hash": "be20a142c3a3c1fec0f2a3fd728a43c6f1e3462a51ebeb0c006ecb4e4d65288e"
   }
  }
 },
 "nbformat": 4,
 "nbformat_minor": 2
}
